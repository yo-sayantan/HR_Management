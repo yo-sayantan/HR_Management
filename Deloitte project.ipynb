{
 "cells": [
  {
   "cell_type": "code",
   "execution_count": 311,
   "metadata": {},
   "outputs": [],
   "source": [
    "import numpy as np\n",
    "import pandas as pd\n",
    "import matplotlib.pyplot as plt\n",
    "%matplotlib inline\n",
    "import seaborn as sns\n",
    "sns.set_style('whitegrid')\n",
    "\n",
    "from scipy import stats\n",
    "import pylab\n",
    "\n",
    "import warnings\n",
    "warnings.filterwarnings('ignore')"
   ]
  },
  {
   "cell_type": "code",
   "execution_count": 312,
   "metadata": {},
   "outputs": [],
   "source": [
    "df = pd.read_csv('employee_data.csv')"
   ]
  },
  {
   "cell_type": "code",
   "execution_count": 313,
   "metadata": {},
   "outputs": [
    {
     "data": {
      "text/html": [
       "<div>\n",
       "<style scoped>\n",
       "    .dataframe tbody tr th:only-of-type {\n",
       "        vertical-align: middle;\n",
       "    }\n",
       "\n",
       "    .dataframe tbody tr th {\n",
       "        vertical-align: top;\n",
       "    }\n",
       "\n",
       "    .dataframe thead th {\n",
       "        text-align: right;\n",
       "    }\n",
       "</style>\n",
       "<table border=\"1\" class=\"dataframe\">\n",
       "  <thead>\n",
       "    <tr style=\"text-align: right;\">\n",
       "      <th></th>\n",
       "      <th>avg_monthly_hrs</th>\n",
       "      <th>department</th>\n",
       "      <th>filed_complaint</th>\n",
       "      <th>last_evaluation</th>\n",
       "      <th>n_projects</th>\n",
       "      <th>recently_promoted</th>\n",
       "      <th>salary</th>\n",
       "      <th>satisfaction</th>\n",
       "      <th>status</th>\n",
       "      <th>tenure</th>\n",
       "    </tr>\n",
       "  </thead>\n",
       "  <tbody>\n",
       "    <tr>\n",
       "      <th>0</th>\n",
       "      <td>221</td>\n",
       "      <td>engineering</td>\n",
       "      <td>NaN</td>\n",
       "      <td>0.932868</td>\n",
       "      <td>4</td>\n",
       "      <td>NaN</td>\n",
       "      <td>low</td>\n",
       "      <td>0.829896</td>\n",
       "      <td>Left</td>\n",
       "      <td>5.0</td>\n",
       "    </tr>\n",
       "    <tr>\n",
       "      <th>1</th>\n",
       "      <td>232</td>\n",
       "      <td>support</td>\n",
       "      <td>NaN</td>\n",
       "      <td>NaN</td>\n",
       "      <td>3</td>\n",
       "      <td>NaN</td>\n",
       "      <td>low</td>\n",
       "      <td>0.834544</td>\n",
       "      <td>Employed</td>\n",
       "      <td>2.0</td>\n",
       "    </tr>\n",
       "    <tr>\n",
       "      <th>2</th>\n",
       "      <td>184</td>\n",
       "      <td>sales</td>\n",
       "      <td>NaN</td>\n",
       "      <td>0.788830</td>\n",
       "      <td>3</td>\n",
       "      <td>NaN</td>\n",
       "      <td>medium</td>\n",
       "      <td>0.834988</td>\n",
       "      <td>Employed</td>\n",
       "      <td>3.0</td>\n",
       "    </tr>\n",
       "    <tr>\n",
       "      <th>3</th>\n",
       "      <td>206</td>\n",
       "      <td>sales</td>\n",
       "      <td>NaN</td>\n",
       "      <td>0.575688</td>\n",
       "      <td>4</td>\n",
       "      <td>NaN</td>\n",
       "      <td>low</td>\n",
       "      <td>0.424764</td>\n",
       "      <td>Employed</td>\n",
       "      <td>2.0</td>\n",
       "    </tr>\n",
       "    <tr>\n",
       "      <th>4</th>\n",
       "      <td>249</td>\n",
       "      <td>sales</td>\n",
       "      <td>NaN</td>\n",
       "      <td>0.845217</td>\n",
       "      <td>3</td>\n",
       "      <td>NaN</td>\n",
       "      <td>low</td>\n",
       "      <td>0.779043</td>\n",
       "      <td>Employed</td>\n",
       "      <td>3.0</td>\n",
       "    </tr>\n",
       "  </tbody>\n",
       "</table>\n",
       "</div>"
      ],
      "text/plain": [
       "   avg_monthly_hrs   department  filed_complaint  last_evaluation  n_projects  \\\n",
       "0              221  engineering              NaN         0.932868           4   \n",
       "1              232      support              NaN              NaN           3   \n",
       "2              184        sales              NaN         0.788830           3   \n",
       "3              206        sales              NaN         0.575688           4   \n",
       "4              249        sales              NaN         0.845217           3   \n",
       "\n",
       "   recently_promoted  salary  satisfaction    status  tenure  \n",
       "0                NaN     low      0.829896      Left     5.0  \n",
       "1                NaN     low      0.834544  Employed     2.0  \n",
       "2                NaN  medium      0.834988  Employed     3.0  \n",
       "3                NaN     low      0.424764  Employed     2.0  \n",
       "4                NaN     low      0.779043  Employed     3.0  "
      ]
     },
     "execution_count": 313,
     "metadata": {},
     "output_type": "execute_result"
    }
   ],
   "source": [
    "df.head()"
   ]
  },
  {
   "cell_type": "code",
   "execution_count": 314,
   "metadata": {},
   "outputs": [
    {
     "data": {
      "text/html": [
       "<div>\n",
       "<style scoped>\n",
       "    .dataframe tbody tr th:only-of-type {\n",
       "        vertical-align: middle;\n",
       "    }\n",
       "\n",
       "    .dataframe tbody tr th {\n",
       "        vertical-align: top;\n",
       "    }\n",
       "\n",
       "    .dataframe thead th {\n",
       "        text-align: right;\n",
       "    }\n",
       "</style>\n",
       "<table border=\"1\" class=\"dataframe\">\n",
       "  <thead>\n",
       "    <tr style=\"text-align: right;\">\n",
       "      <th></th>\n",
       "      <th>avg_monthly_hrs</th>\n",
       "      <th>department</th>\n",
       "      <th>filed_complaint</th>\n",
       "      <th>last_evaluation</th>\n",
       "      <th>n_projects</th>\n",
       "      <th>recently_promoted</th>\n",
       "      <th>salary</th>\n",
       "      <th>satisfaction</th>\n",
       "      <th>status</th>\n",
       "      <th>tenure</th>\n",
       "    </tr>\n",
       "  </thead>\n",
       "  <tbody>\n",
       "    <tr>\n",
       "      <th>5018</th>\n",
       "      <td>257</td>\n",
       "      <td>engineering</td>\n",
       "      <td>NaN</td>\n",
       "      <td>0.914503</td>\n",
       "      <td>4</td>\n",
       "      <td>NaN</td>\n",
       "      <td>high</td>\n",
       "      <td>0.606451</td>\n",
       "      <td>Employed</td>\n",
       "      <td>2.0</td>\n",
       "    </tr>\n",
       "    <tr>\n",
       "      <th>9057</th>\n",
       "      <td>171</td>\n",
       "      <td>sales</td>\n",
       "      <td>NaN</td>\n",
       "      <td>0.640353</td>\n",
       "      <td>4</td>\n",
       "      <td>NaN</td>\n",
       "      <td>low</td>\n",
       "      <td>0.604266</td>\n",
       "      <td>Employed</td>\n",
       "      <td>3.0</td>\n",
       "    </tr>\n",
       "    <tr>\n",
       "      <th>12001</th>\n",
       "      <td>181</td>\n",
       "      <td>engineering</td>\n",
       "      <td>NaN</td>\n",
       "      <td>0.735859</td>\n",
       "      <td>3</td>\n",
       "      <td>NaN</td>\n",
       "      <td>medium</td>\n",
       "      <td>0.637364</td>\n",
       "      <td>Employed</td>\n",
       "      <td>2.0</td>\n",
       "    </tr>\n",
       "    <tr>\n",
       "      <th>11415</th>\n",
       "      <td>284</td>\n",
       "      <td>sales</td>\n",
       "      <td>NaN</td>\n",
       "      <td>0.790078</td>\n",
       "      <td>3</td>\n",
       "      <td>NaN</td>\n",
       "      <td>low</td>\n",
       "      <td>0.492806</td>\n",
       "      <td>Employed</td>\n",
       "      <td>10.0</td>\n",
       "    </tr>\n",
       "    <tr>\n",
       "      <th>6525</th>\n",
       "      <td>289</td>\n",
       "      <td>sales</td>\n",
       "      <td>NaN</td>\n",
       "      <td>0.907194</td>\n",
       "      <td>7</td>\n",
       "      <td>NaN</td>\n",
       "      <td>low</td>\n",
       "      <td>0.167997</td>\n",
       "      <td>Left</td>\n",
       "      <td>4.0</td>\n",
       "    </tr>\n",
       "    <tr>\n",
       "      <th>3231</th>\n",
       "      <td>173</td>\n",
       "      <td>marketing</td>\n",
       "      <td>NaN</td>\n",
       "      <td>0.822792</td>\n",
       "      <td>5</td>\n",
       "      <td>NaN</td>\n",
       "      <td>low</td>\n",
       "      <td>0.635227</td>\n",
       "      <td>Employed</td>\n",
       "      <td>3.0</td>\n",
       "    </tr>\n",
       "  </tbody>\n",
       "</table>\n",
       "</div>"
      ],
      "text/plain": [
       "       avg_monthly_hrs   department  filed_complaint  last_evaluation  \\\n",
       "5018               257  engineering              NaN         0.914503   \n",
       "9057               171        sales              NaN         0.640353   \n",
       "12001              181  engineering              NaN         0.735859   \n",
       "11415              284        sales              NaN         0.790078   \n",
       "6525               289        sales              NaN         0.907194   \n",
       "3231               173    marketing              NaN         0.822792   \n",
       "\n",
       "       n_projects  recently_promoted  salary  satisfaction    status  tenure  \n",
       "5018            4                NaN    high      0.606451  Employed     2.0  \n",
       "9057            4                NaN     low      0.604266  Employed     3.0  \n",
       "12001           3                NaN  medium      0.637364  Employed     2.0  \n",
       "11415           3                NaN     low      0.492806  Employed    10.0  \n",
       "6525            7                NaN     low      0.167997      Left     4.0  \n",
       "3231            5                NaN     low      0.635227  Employed     3.0  "
      ]
     },
     "execution_count": 314,
     "metadata": {},
     "output_type": "execute_result"
    }
   ],
   "source": [
    "df.sample(6)"
   ]
  },
  {
   "cell_type": "code",
   "execution_count": 315,
   "metadata": {},
   "outputs": [
    {
     "data": {
      "text/plain": [
       "(14249, 10)"
      ]
     },
     "execution_count": 315,
     "metadata": {},
     "output_type": "execute_result"
    }
   ],
   "source": [
    "df.shape"
   ]
  },
  {
   "cell_type": "code",
   "execution_count": 316,
   "metadata": {},
   "outputs": [
    {
     "data": {
      "text/html": [
       "<div>\n",
       "<style scoped>\n",
       "    .dataframe tbody tr th:only-of-type {\n",
       "        vertical-align: middle;\n",
       "    }\n",
       "\n",
       "    .dataframe tbody tr th {\n",
       "        vertical-align: top;\n",
       "    }\n",
       "\n",
       "    .dataframe thead th {\n",
       "        text-align: right;\n",
       "    }\n",
       "</style>\n",
       "<table border=\"1\" class=\"dataframe\">\n",
       "  <thead>\n",
       "    <tr style=\"text-align: right;\">\n",
       "      <th></th>\n",
       "      <th>avg_monthly_hrs</th>\n",
       "      <th>filed_complaint</th>\n",
       "      <th>last_evaluation</th>\n",
       "      <th>n_projects</th>\n",
       "      <th>recently_promoted</th>\n",
       "      <th>satisfaction</th>\n",
       "      <th>tenure</th>\n",
       "    </tr>\n",
       "  </thead>\n",
       "  <tbody>\n",
       "    <tr>\n",
       "      <th>count</th>\n",
       "      <td>14249.000000</td>\n",
       "      <td>2058.0</td>\n",
       "      <td>12717.000000</td>\n",
       "      <td>14249.000000</td>\n",
       "      <td>300.0</td>\n",
       "      <td>14068.000000</td>\n",
       "      <td>14068.000000</td>\n",
       "    </tr>\n",
       "    <tr>\n",
       "      <th>mean</th>\n",
       "      <td>199.795775</td>\n",
       "      <td>1.0</td>\n",
       "      <td>0.718477</td>\n",
       "      <td>3.773809</td>\n",
       "      <td>1.0</td>\n",
       "      <td>0.621295</td>\n",
       "      <td>3.497228</td>\n",
       "    </tr>\n",
       "    <tr>\n",
       "      <th>std</th>\n",
       "      <td>50.998714</td>\n",
       "      <td>0.0</td>\n",
       "      <td>0.173062</td>\n",
       "      <td>1.253126</td>\n",
       "      <td>0.0</td>\n",
       "      <td>0.250469</td>\n",
       "      <td>1.460917</td>\n",
       "    </tr>\n",
       "    <tr>\n",
       "      <th>min</th>\n",
       "      <td>49.000000</td>\n",
       "      <td>1.0</td>\n",
       "      <td>0.316175</td>\n",
       "      <td>1.000000</td>\n",
       "      <td>1.0</td>\n",
       "      <td>0.040058</td>\n",
       "      <td>2.000000</td>\n",
       "    </tr>\n",
       "    <tr>\n",
       "      <th>25%</th>\n",
       "      <td>155.000000</td>\n",
       "      <td>1.0</td>\n",
       "      <td>0.563866</td>\n",
       "      <td>3.000000</td>\n",
       "      <td>1.0</td>\n",
       "      <td>0.450390</td>\n",
       "      <td>3.000000</td>\n",
       "    </tr>\n",
       "    <tr>\n",
       "      <th>50%</th>\n",
       "      <td>199.000000</td>\n",
       "      <td>1.0</td>\n",
       "      <td>0.724939</td>\n",
       "      <td>4.000000</td>\n",
       "      <td>1.0</td>\n",
       "      <td>0.652527</td>\n",
       "      <td>3.000000</td>\n",
       "    </tr>\n",
       "    <tr>\n",
       "      <th>75%</th>\n",
       "      <td>245.000000</td>\n",
       "      <td>1.0</td>\n",
       "      <td>0.871358</td>\n",
       "      <td>5.000000</td>\n",
       "      <td>1.0</td>\n",
       "      <td>0.824951</td>\n",
       "      <td>4.000000</td>\n",
       "    </tr>\n",
       "    <tr>\n",
       "      <th>max</th>\n",
       "      <td>310.000000</td>\n",
       "      <td>1.0</td>\n",
       "      <td>1.000000</td>\n",
       "      <td>7.000000</td>\n",
       "      <td>1.0</td>\n",
       "      <td>1.000000</td>\n",
       "      <td>10.000000</td>\n",
       "    </tr>\n",
       "  </tbody>\n",
       "</table>\n",
       "</div>"
      ],
      "text/plain": [
       "       avg_monthly_hrs  filed_complaint  last_evaluation    n_projects  \\\n",
       "count     14249.000000           2058.0     12717.000000  14249.000000   \n",
       "mean        199.795775              1.0         0.718477      3.773809   \n",
       "std          50.998714              0.0         0.173062      1.253126   \n",
       "min          49.000000              1.0         0.316175      1.000000   \n",
       "25%         155.000000              1.0         0.563866      3.000000   \n",
       "50%         199.000000              1.0         0.724939      4.000000   \n",
       "75%         245.000000              1.0         0.871358      5.000000   \n",
       "max         310.000000              1.0         1.000000      7.000000   \n",
       "\n",
       "       recently_promoted  satisfaction        tenure  \n",
       "count              300.0  14068.000000  14068.000000  \n",
       "mean                 1.0      0.621295      3.497228  \n",
       "std                  0.0      0.250469      1.460917  \n",
       "min                  1.0      0.040058      2.000000  \n",
       "25%                  1.0      0.450390      3.000000  \n",
       "50%                  1.0      0.652527      3.000000  \n",
       "75%                  1.0      0.824951      4.000000  \n",
       "max                  1.0      1.000000     10.000000  "
      ]
     },
     "execution_count": 316,
     "metadata": {},
     "output_type": "execute_result"
    }
   ],
   "source": [
    "df.describe()"
   ]
  },
  {
   "cell_type": "code",
   "execution_count": 317,
   "metadata": {},
   "outputs": [
    {
     "data": {
      "text/plain": [
       "(14221, 10)"
      ]
     },
     "execution_count": 317,
     "metadata": {},
     "output_type": "execute_result"
    }
   ],
   "source": [
    "df.drop_duplicates(inplace=True)\n",
    "df.shape"
   ]
  },
  {
   "cell_type": "code",
   "execution_count": 318,
   "metadata": {},
   "outputs": [
    {
     "data": {
      "text/plain": [
       "avg_monthly_hrs        int64\n",
       "department            object\n",
       "filed_complaint      float64\n",
       "last_evaluation      float64\n",
       "n_projects             int64\n",
       "recently_promoted    float64\n",
       "salary                object\n",
       "satisfaction         float64\n",
       "status                object\n",
       "tenure               float64\n",
       "dtype: object"
      ]
     },
     "execution_count": 318,
     "metadata": {},
     "output_type": "execute_result"
    }
   ],
   "source": [
    "df.dtypes"
   ]
  },
  {
   "cell_type": "code",
   "execution_count": 319,
   "metadata": {},
   "outputs": [
    {
     "data": {
      "text/plain": [
       "avg_monthly_hrs          0\n",
       "department             709\n",
       "filed_complaint      12165\n",
       "last_evaluation       1504\n",
       "n_projects               0\n",
       "recently_promoted    13921\n",
       "salary                   0\n",
       "satisfaction           153\n",
       "status                   0\n",
       "tenure                 153\n",
       "dtype: int64"
      ]
     },
     "execution_count": 319,
     "metadata": {},
     "output_type": "execute_result"
    }
   ],
   "source": [
    "df.isnull().sum()"
   ]
  },
  {
   "cell_type": "code",
   "execution_count": 320,
   "metadata": {},
   "outputs": [
    {
     "name": "stdout",
     "output_type": "stream",
     "text": [
      "[nan  1.]\n",
      "[nan  1.]\n"
     ]
    }
   ],
   "source": [
    "print(df.filed_complaint.unique())\n",
    "print(df.recently_promoted.unique())"
   ]
  },
  {
   "cell_type": "code",
   "execution_count": 321,
   "metadata": {},
   "outputs": [],
   "source": [
    "df['filed_complaint'].replace(np.nan, 0, inplace=True)\n",
    "df['recently_promoted'].replace(np.nan, 0, inplace=True)"
   ]
  },
  {
   "cell_type": "code",
   "execution_count": 322,
   "metadata": {},
   "outputs": [
    {
     "name": "stdout",
     "output_type": "stream",
     "text": [
      "[0. 1.]\n",
      "[0. 1.]\n"
     ]
    }
   ],
   "source": [
    "print(df.filed_complaint.unique())\n",
    "print(df.recently_promoted.unique())"
   ]
  },
  {
   "cell_type": "code",
   "execution_count": 323,
   "metadata": {},
   "outputs": [
    {
     "data": {
      "text/plain": [
       "avg_monthly_hrs         0\n",
       "department            709\n",
       "filed_complaint         0\n",
       "last_evaluation      1504\n",
       "n_projects              0\n",
       "recently_promoted       0\n",
       "salary                  0\n",
       "satisfaction          153\n",
       "status                  0\n",
       "tenure                153\n",
       "dtype: int64"
      ]
     },
     "execution_count": 323,
     "metadata": {},
     "output_type": "execute_result"
    }
   ],
   "source": [
    "df.isnull().sum()"
   ]
  },
  {
   "cell_type": "code",
   "execution_count": 324,
   "metadata": {},
   "outputs": [
    {
     "data": {
      "text/plain": [
       "array(['engineering', 'support', 'sales', 'IT', 'product', 'marketing',\n",
       "       'temp', 'procurement', 'finance', nan, 'management',\n",
       "       'information_technology', 'admin'], dtype=object)"
      ]
     },
     "execution_count": 324,
     "metadata": {},
     "output_type": "execute_result"
    }
   ],
   "source": [
    "df.department.unique()"
   ]
  },
  {
   "cell_type": "code",
   "execution_count": 325,
   "metadata": {},
   "outputs": [
    {
     "data": {
      "text/plain": [
       "array(['engineering', 'support', 'sales', 'IT', 'product', 'marketing',\n",
       "       'temp', 'procurement', 'finance', nan, 'management',\n",
       "       'information_technology', 'admin'], dtype=object)"
      ]
     },
     "execution_count": 325,
     "metadata": {},
     "output_type": "execute_result"
    }
   ],
   "source": [
    "df.department.unique()"
   ]
  },
  {
   "cell_type": "code",
   "execution_count": 326,
   "metadata": {},
   "outputs": [],
   "source": [
    "df['department'].replace('information_technology', 'IT', inplace=True)"
   ]
  },
  {
   "cell_type": "code",
   "execution_count": 327,
   "metadata": {},
   "outputs": [],
   "source": [
    "df = df[df['department'] != 'temp']"
   ]
  },
  {
   "cell_type": "code",
   "execution_count": 328,
   "metadata": {},
   "outputs": [
    {
     "data": {
      "text/plain": [
       "(14068, 10)"
      ]
     },
     "execution_count": 328,
     "metadata": {},
     "output_type": "execute_result"
    }
   ],
   "source": [
    "df.shape"
   ]
  },
  {
   "cell_type": "code",
   "execution_count": 329,
   "metadata": {},
   "outputs": [
    {
     "data": {
      "text/plain": [
       "avg_monthly_hrs         0\n",
       "department            709\n",
       "filed_complaint         0\n",
       "last_evaluation      1351\n",
       "n_projects              0\n",
       "recently_promoted       0\n",
       "salary                  0\n",
       "satisfaction            0\n",
       "status                  0\n",
       "tenure                  0\n",
       "dtype: int64"
      ]
     },
     "execution_count": 329,
     "metadata": {},
     "output_type": "execute_result"
    }
   ],
   "source": [
    "df.isnull().sum()"
   ]
  },
  {
   "cell_type": "code",
   "execution_count": 330,
   "metadata": {},
   "outputs": [],
   "source": [
    "department_mapping = {\n",
    "    'engineering' : 0,\n",
    "    'support' : 1,\n",
    "    'sales' : 2,\n",
    "    'IT' : 3,\n",
    "    'product' : 4,\n",
    "    'marketing' : 5,\n",
    "    'procurement' : 6,\n",
    "    'finance' : 7,\n",
    "    'management' : 8,\n",
    "    'admin' : 9\n",
    "}\n",
    "\n",
    "df['department'] = df['department'].map(department_mapping)"
   ]
  },
  {
   "cell_type": "code",
   "execution_count": 331,
   "metadata": {},
   "outputs": [
    {
     "data": {
      "text/plain": [
       "array(['low', 'medium', 'high'], dtype=object)"
      ]
     },
     "execution_count": 331,
     "metadata": {},
     "output_type": "execute_result"
    }
   ],
   "source": [
    "df.salary.unique()"
   ]
  },
  {
   "cell_type": "code",
   "execution_count": 332,
   "metadata": {},
   "outputs": [],
   "source": [
    "salary_mapping = {\n",
    "    'low' : 0,\n",
    "    'medium' : 1,\n",
    "    'high' : 2\n",
    "}\n",
    "\n",
    "df['salary'] = df['salary'].map(salary_mapping)"
   ]
  },
  {
   "cell_type": "code",
   "execution_count": 333,
   "metadata": {},
   "outputs": [
    {
     "data": {
      "text/plain": [
       "array(['Left', 'Employed'], dtype=object)"
      ]
     },
     "execution_count": 333,
     "metadata": {},
     "output_type": "execute_result"
    }
   ],
   "source": [
    "df.status.unique()"
   ]
  },
  {
   "cell_type": "code",
   "execution_count": 334,
   "metadata": {},
   "outputs": [],
   "source": [
    "status_mapping = {\n",
    "    'Left' : 1,\n",
    "    'Employed' : 0\n",
    "}\n",
    "\n",
    "df['status'] = df['status'].map(status_mapping)"
   ]
  },
  {
   "cell_type": "code",
   "execution_count": 335,
   "metadata": {},
   "outputs": [
    {
     "data": {
      "text/html": [
       "<div>\n",
       "<style scoped>\n",
       "    .dataframe tbody tr th:only-of-type {\n",
       "        vertical-align: middle;\n",
       "    }\n",
       "\n",
       "    .dataframe tbody tr th {\n",
       "        vertical-align: top;\n",
       "    }\n",
       "\n",
       "    .dataframe thead th {\n",
       "        text-align: right;\n",
       "    }\n",
       "</style>\n",
       "<table border=\"1\" class=\"dataframe\">\n",
       "  <thead>\n",
       "    <tr style=\"text-align: right;\">\n",
       "      <th></th>\n",
       "      <th>avg_monthly_hrs</th>\n",
       "      <th>department</th>\n",
       "      <th>filed_complaint</th>\n",
       "      <th>last_evaluation</th>\n",
       "      <th>n_projects</th>\n",
       "      <th>recently_promoted</th>\n",
       "      <th>salary</th>\n",
       "      <th>satisfaction</th>\n",
       "      <th>status</th>\n",
       "      <th>tenure</th>\n",
       "    </tr>\n",
       "  </thead>\n",
       "  <tbody>\n",
       "    <tr>\n",
       "      <th>count</th>\n",
       "      <td>14068.000000</td>\n",
       "      <td>13359.000000</td>\n",
       "      <td>14068.000000</td>\n",
       "      <td>12717.000000</td>\n",
       "      <td>14068.000000</td>\n",
       "      <td>14068.000000</td>\n",
       "      <td>14068.000000</td>\n",
       "      <td>14068.000000</td>\n",
       "      <td>14068.000000</td>\n",
       "      <td>14068.000000</td>\n",
       "    </tr>\n",
       "    <tr>\n",
       "      <th>mean</th>\n",
       "      <td>201.083736</td>\n",
       "      <td>2.552362</td>\n",
       "      <td>0.143944</td>\n",
       "      <td>0.718477</td>\n",
       "      <td>3.801038</td>\n",
       "      <td>0.021325</td>\n",
       "      <td>0.592764</td>\n",
       "      <td>0.621295</td>\n",
       "      <td>0.239338</td>\n",
       "      <td>3.497228</td>\n",
       "    </tr>\n",
       "    <tr>\n",
       "      <th>std</th>\n",
       "      <td>49.959962</td>\n",
       "      <td>2.315559</td>\n",
       "      <td>0.351045</td>\n",
       "      <td>0.173062</td>\n",
       "      <td>1.236058</td>\n",
       "      <td>0.144470</td>\n",
       "      <td>0.635435</td>\n",
       "      <td>0.250469</td>\n",
       "      <td>0.426694</td>\n",
       "      <td>1.460917</td>\n",
       "    </tr>\n",
       "    <tr>\n",
       "      <th>min</th>\n",
       "      <td>96.000000</td>\n",
       "      <td>0.000000</td>\n",
       "      <td>0.000000</td>\n",
       "      <td>0.316175</td>\n",
       "      <td>2.000000</td>\n",
       "      <td>0.000000</td>\n",
       "      <td>0.000000</td>\n",
       "      <td>0.040058</td>\n",
       "      <td>0.000000</td>\n",
       "      <td>2.000000</td>\n",
       "    </tr>\n",
       "    <tr>\n",
       "      <th>25%</th>\n",
       "      <td>156.000000</td>\n",
       "      <td>1.000000</td>\n",
       "      <td>0.000000</td>\n",
       "      <td>0.563866</td>\n",
       "      <td>3.000000</td>\n",
       "      <td>0.000000</td>\n",
       "      <td>0.000000</td>\n",
       "      <td>0.450390</td>\n",
       "      <td>0.000000</td>\n",
       "      <td>3.000000</td>\n",
       "    </tr>\n",
       "    <tr>\n",
       "      <th>50%</th>\n",
       "      <td>200.000000</td>\n",
       "      <td>2.000000</td>\n",
       "      <td>0.000000</td>\n",
       "      <td>0.724939</td>\n",
       "      <td>4.000000</td>\n",
       "      <td>0.000000</td>\n",
       "      <td>1.000000</td>\n",
       "      <td>0.652527</td>\n",
       "      <td>0.000000</td>\n",
       "      <td>3.000000</td>\n",
       "    </tr>\n",
       "    <tr>\n",
       "      <th>75%</th>\n",
       "      <td>245.000000</td>\n",
       "      <td>4.000000</td>\n",
       "      <td>0.000000</td>\n",
       "      <td>0.871358</td>\n",
       "      <td>5.000000</td>\n",
       "      <td>0.000000</td>\n",
       "      <td>1.000000</td>\n",
       "      <td>0.824951</td>\n",
       "      <td>0.000000</td>\n",
       "      <td>4.000000</td>\n",
       "    </tr>\n",
       "    <tr>\n",
       "      <th>max</th>\n",
       "      <td>310.000000</td>\n",
       "      <td>9.000000</td>\n",
       "      <td>1.000000</td>\n",
       "      <td>1.000000</td>\n",
       "      <td>7.000000</td>\n",
       "      <td>1.000000</td>\n",
       "      <td>2.000000</td>\n",
       "      <td>1.000000</td>\n",
       "      <td>1.000000</td>\n",
       "      <td>10.000000</td>\n",
       "    </tr>\n",
       "  </tbody>\n",
       "</table>\n",
       "</div>"
      ],
      "text/plain": [
       "       avg_monthly_hrs    department  filed_complaint  last_evaluation  \\\n",
       "count     14068.000000  13359.000000     14068.000000     12717.000000   \n",
       "mean        201.083736      2.552362         0.143944         0.718477   \n",
       "std          49.959962      2.315559         0.351045         0.173062   \n",
       "min          96.000000      0.000000         0.000000         0.316175   \n",
       "25%         156.000000      1.000000         0.000000         0.563866   \n",
       "50%         200.000000      2.000000         0.000000         0.724939   \n",
       "75%         245.000000      4.000000         0.000000         0.871358   \n",
       "max         310.000000      9.000000         1.000000         1.000000   \n",
       "\n",
       "         n_projects  recently_promoted        salary  satisfaction  \\\n",
       "count  14068.000000       14068.000000  14068.000000  14068.000000   \n",
       "mean       3.801038           0.021325      0.592764      0.621295   \n",
       "std        1.236058           0.144470      0.635435      0.250469   \n",
       "min        2.000000           0.000000      0.000000      0.040058   \n",
       "25%        3.000000           0.000000      0.000000      0.450390   \n",
       "50%        4.000000           0.000000      1.000000      0.652527   \n",
       "75%        5.000000           0.000000      1.000000      0.824951   \n",
       "max        7.000000           1.000000      2.000000      1.000000   \n",
       "\n",
       "             status        tenure  \n",
       "count  14068.000000  14068.000000  \n",
       "mean       0.239338      3.497228  \n",
       "std        0.426694      1.460917  \n",
       "min        0.000000      2.000000  \n",
       "25%        0.000000      3.000000  \n",
       "50%        0.000000      3.000000  \n",
       "75%        0.000000      4.000000  \n",
       "max        1.000000     10.000000  "
      ]
     },
     "execution_count": 335,
     "metadata": {},
     "output_type": "execute_result"
    }
   ],
   "source": [
    "df.describe()"
   ]
  },
  {
   "cell_type": "code",
   "execution_count": 336,
   "metadata": {},
   "outputs": [
    {
     "data": {
      "text/plain": [
       "<matplotlib.axes._subplots.AxesSubplot at 0x13483550>"
      ]
     },
     "execution_count": 336,
     "metadata": {},
     "output_type": "execute_result"
    },
    {
     "data": {
      "image/png": "[encoded data removed]",
      "text/plain": [
       "<Figure size 864x648 with 2 Axes>"
      ]
     },
     "metadata": {},
     "output_type": "display_data"
    }
   ],
   "source": [
    "fig = plt.figure(figsize = (12,9))\n",
    "sns.heatmap(df.corr(), annot=True, cmap='magma')"
   ]
  },
  {
   "cell_type": "code",
   "execution_count": 337,
   "metadata": {},
   "outputs": [],
   "source": [
    "df['department'] = df['department'].fillna(df['department'].mode().iloc[0])"
   ]
  },
  {
   "cell_type": "code",
   "execution_count": 338,
   "metadata": {},
   "outputs": [
    {
     "data": {
      "text/plain": [
       "4    4070\n",
       "3    3796\n",
       "5    2590\n",
       "2    2265\n",
       "6    1104\n",
       "7     243\n",
       "Name: n_projects, dtype: int64"
      ]
     },
     "execution_count": 338,
     "metadata": {},
     "output_type": "execute_result"
    }
   ],
   "source": [
    "df['n_projects'].value_counts()"
   ]
  },
  {
   "cell_type": "code",
   "execution_count": 339,
   "metadata": {},
   "outputs": [],
   "source": [
    "dummy_mapping = {\n",
    "    2 : 0, 3 : 0,\n",
    "    4 : 1, 5 : 1,\n",
    "    6 : 2, 7 : 2\n",
    "}\n",
    "\n",
    "df['dummy_project'] = df['n_projects'].map(dummy_mapping)"
   ]
  },
  {
   "cell_type": "code",
   "execution_count": 340,
   "metadata": {},
   "outputs": [
    {
     "data": {
      "text/html": [
       "<div>\n",
       "<style scoped>\n",
       "    .dataframe tbody tr th:only-of-type {\n",
       "        vertical-align: middle;\n",
       "    }\n",
       "\n",
       "    .dataframe tbody tr th {\n",
       "        vertical-align: top;\n",
       "    }\n",
       "\n",
       "    .dataframe thead th {\n",
       "        text-align: right;\n",
       "    }\n",
       "</style>\n",
       "<table border=\"1\" class=\"dataframe\">\n",
       "  <thead>\n",
       "    <tr style=\"text-align: right;\">\n",
       "      <th></th>\n",
       "      <th>avg_monthly_hrs</th>\n",
       "      <th>department</th>\n",
       "      <th>filed_complaint</th>\n",
       "      <th>last_evaluation</th>\n",
       "      <th>n_projects</th>\n",
       "      <th>recently_promoted</th>\n",
       "      <th>salary</th>\n",
       "      <th>satisfaction</th>\n",
       "      <th>status</th>\n",
       "      <th>tenure</th>\n",
       "      <th>dummy_project</th>\n",
       "    </tr>\n",
       "  </thead>\n",
       "  <tbody>\n",
       "    <tr>\n",
       "      <th>0</th>\n",
       "      <td>221</td>\n",
       "      <td>0.0</td>\n",
       "      <td>0.0</td>\n",
       "      <td>0.932868</td>\n",
       "      <td>4</td>\n",
       "      <td>0.0</td>\n",
       "      <td>0</td>\n",
       "      <td>0.829896</td>\n",
       "      <td>1</td>\n",
       "      <td>5.0</td>\n",
       "      <td>1</td>\n",
       "    </tr>\n",
       "    <tr>\n",
       "      <th>1</th>\n",
       "      <td>232</td>\n",
       "      <td>1.0</td>\n",
       "      <td>0.0</td>\n",
       "      <td>NaN</td>\n",
       "      <td>3</td>\n",
       "      <td>0.0</td>\n",
       "      <td>0</td>\n",
       "      <td>0.834544</td>\n",
       "      <td>0</td>\n",
       "      <td>2.0</td>\n",
       "      <td>0</td>\n",
       "    </tr>\n",
       "    <tr>\n",
       "      <th>2</th>\n",
       "      <td>184</td>\n",
       "      <td>2.0</td>\n",
       "      <td>0.0</td>\n",
       "      <td>0.788830</td>\n",
       "      <td>3</td>\n",
       "      <td>0.0</td>\n",
       "      <td>1</td>\n",
       "      <td>0.834988</td>\n",
       "      <td>0</td>\n",
       "      <td>3.0</td>\n",
       "      <td>0</td>\n",
       "    </tr>\n",
       "    <tr>\n",
       "      <th>3</th>\n",
       "      <td>206</td>\n",
       "      <td>2.0</td>\n",
       "      <td>0.0</td>\n",
       "      <td>0.575688</td>\n",
       "      <td>4</td>\n",
       "      <td>0.0</td>\n",
       "      <td>0</td>\n",
       "      <td>0.424764</td>\n",
       "      <td>0</td>\n",
       "      <td>2.0</td>\n",
       "      <td>1</td>\n",
       "    </tr>\n",
       "    <tr>\n",
       "      <th>4</th>\n",
       "      <td>249</td>\n",
       "      <td>2.0</td>\n",
       "      <td>0.0</td>\n",
       "      <td>0.845217</td>\n",
       "      <td>3</td>\n",
       "      <td>0.0</td>\n",
       "      <td>0</td>\n",
       "      <td>0.779043</td>\n",
       "      <td>0</td>\n",
       "      <td>3.0</td>\n",
       "      <td>0</td>\n",
       "    </tr>\n",
       "  </tbody>\n",
       "</table>\n",
       "</div>"
      ],
      "text/plain": [
       "   avg_monthly_hrs  department  filed_complaint  last_evaluation  n_projects  \\\n",
       "0              221         0.0              0.0         0.932868           4   \n",
       "1              232         1.0              0.0              NaN           3   \n",
       "2              184         2.0              0.0         0.788830           3   \n",
       "3              206         2.0              0.0         0.575688           4   \n",
       "4              249         2.0              0.0         0.845217           3   \n",
       "\n",
       "   recently_promoted  salary  satisfaction  status  tenure  dummy_project  \n",
       "0                0.0       0      0.829896       1     5.0              1  \n",
       "1                0.0       0      0.834544       0     2.0              0  \n",
       "2                0.0       1      0.834988       0     3.0              0  \n",
       "3                0.0       0      0.424764       0     2.0              1  \n",
       "4                0.0       0      0.779043       0     3.0              0  "
      ]
     },
     "execution_count": 340,
     "metadata": {},
     "output_type": "execute_result"
    }
   ],
   "source": [
    "df.head()"
   ]
  },
  {
   "cell_type": "code",
   "execution_count": 341,
   "metadata": {},
   "outputs": [],
   "source": [
    "df['last_evaluation'].fillna(df.groupby('dummy_project')['last_evaluation'].transform('mean'), inplace=True)"
   ]
  },
  {
   "cell_type": "code",
   "execution_count": 343,
   "metadata": {},
   "outputs": [],
   "source": [
    "def mainplot(col):\n",
    "    plt.figure(figsize=(18,6))\n",
    "    plt.subplot(1,3,1)\n",
    "    sns.distplot(df[col])\n",
    "    \n",
    "    plt.subplot(1,3,2)\n",
    "    stats.probplot(df[col], plot=pylab)\n",
    "    \n",
    "    plt.subplot(1,3,3)\n",
    "    sns.boxplot(y=df[col])"
   ]
  },
  {
   "cell_type": "code",
   "execution_count": 344,
   "metadata": {},
   "outputs": [
    {
     "data": {
      "image/png": "[encoded data removed]",
      "text/plain": [
       "<Figure size 1296x432 with 3 Axes>"
      ]
     },
     "metadata": {},
     "output_type": "display_data"
    }
   ],
   "source": [
    "mainplot('avg_monthly_hrs')"
   ]
  },
  {
   "cell_type": "code",
   "execution_count": 345,
   "metadata": {},
   "outputs": [
    {
     "data": {
      "image/png": "[encoded data removed]",
      "text/plain": [
       "<Figure size 1296x432 with 3 Axes>"
      ]
     },
     "metadata": {},
     "output_type": "display_data"
    }
   ],
   "source": [
    "mainplot('last_evaluation')"
   ]
  },
  {
   "cell_type": "code",
   "execution_count": 347,
   "metadata": {},
   "outputs": [
    {
     "data": {
      "image/png": "[encoded data removed]",
      "text/plain": [
       "<Figure size 1296x432 with 3 Axes>"
      ]
     },
     "metadata": {},
     "output_type": "display_data"
    }
   ],
   "source": [
    "mainplot('satisfaction')"
   ]
  },
  {
   "cell_type": "code",
   "execution_count": null,
   "metadata": {},
   "outputs": [],
   "source": []
  }
 ],
 "metadata": {
  "kernelspec": {
   "display_name": "Python 3",
   "language": "python",
   "name": "python3"
  },
  "language_info": {
   "codemirror_mode": {
    "name": "ipython",
    "version": 3
   },
   "file_extension": ".py",
   "mimetype": "text/x-python",
   "name": "python",
   "nbconvert_exporter": "python",
   "pygments_lexer": "ipython3",
   "version": "3.7.3"
  }
 },
 "nbformat": 4,
 "nbformat_minor": 2
}
